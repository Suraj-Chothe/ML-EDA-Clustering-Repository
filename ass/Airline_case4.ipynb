{
 "cells": [
  {
   "cell_type": "markdown",
   "id": "7f7f5db2",
   "metadata": {},
   "source": [
    "\n",
    "# Airlines_case4\n",
    "\n",
    "Problem Statements: 1. Perform K means clustering on the airlines dataset to obtain optimum number of clusters. Draw the inferences from the clusters obtained. Refer to EastWestAirlines.xlsx dataset.\n",
    "\n",
    "# Inferance\n",
    "1. Business Problem\n",
    "What is the business objective?\n",
    "\n",
    "Minimize:-\n",
    "\n",
    "Maximizes :-\n",
    "\n",
    "Are there any constraints?:-\n",
    "\n",
    ". Work on each feature of the dataset to create a data dictionary as displayed in the below image:\n",
    "Name of feature -------- Description ------------- Type ----------------- Relevance\n",
    "\n",
    "ID# --------------- here the id is unique ------------------- Ordinal data ------------------ Irrelevant\n",
    "\n",
    "Balance --------------- Number of miles eligible for award travel ------------- Discrete data -------------- relevant\n",
    "\n",
    "Qual_miles ----------------- Number of miles counted as qualifying for Topflight status -------- Discrete data ---------Relevant\n",
    "\n",
    "cc1_miles --------- Has member earned miles with airline freq. flyer credit card in the past 12 months --------- Discrete data --------- Relevant\n",
    "\n",
    "cc2_miles --------- Has member earned miles with Rewards credit card in the past 12 months (1=Yes/0=No)? --------- Discrete data -------- Relevant\n",
    "\n",
    "cc3_miles --------- Has member earned miles with Small Business credit card in the past 12 months (1=Yes/0=No)? -------- Discrete data ----------- Relevant\n",
    "\n",
    "Bonus_miles ----------- Number of miles earned from non-flight bonus transactions in the past 12 months ----------- Discrete data --------- Relevant\n",
    "\n",
    "Bonus_trans ------------- Number of non-flight bonus transactions in the past 12 months --------- Discrete data ------- Relevant\n",
    "\n",
    "Flight_miles_12mo --------- Number of flight miles in the past 12 months -------- Discrete data ----------- Relevant\n",
    "\n",
    "Flight_trans_12 --------- Number of flight transactions in the past 12 months -------- Discrete data ---------- Relevant\n",
    "\n",
    "Days_since_enroll ------------ Number of days since Enroll_date --------------- Discrete data ---------- Relevant\n",
    "\n",
    "Award? ------------ Dummy variable for Last_award (1=not null, 0=null) ------------ Ordinal ------------ Irrelevant\n",
    "\n",
    "This is columns in the EastwestAirlines dataset file:\n",
    "ID#:- here the id is unique\n",
    "\n",
    "Balance:- Number of miles eligible for award travel\n",
    "\n",
    "Qual_miles:- Number of miles counted as qualifying for Topflight status\n",
    "\n",
    "cc1_miles:- Has member earned miles with airline freq. flyer credit card in the past 12 months\n",
    "\n",
    "cc2_miles:- Has member earned miles with Rewards credit card in the past 12 months (1=Yes/0=No)?\n",
    "\n",
    "cc3_miles:- Has member earned miles with Small Business credit card in the past 12 months (1=Yes/0=No)?\n",
    "\n",
    "Bonus_miles:- Number of miles earned from non-flight bonus transactions in the past 12 months\n",
    "\n",
    "Bonus_trans:- Number of non-flight bonus transactions in the past 12 months\n",
    "\n",
    "Flight_miles_12mo:- Number of flight miles in the past 12 months\n",
    "\n",
    "Flight_trans_12:- Number of flight transactions in the past 12 months\n",
    "\n",
    "Days_since_enroll:- Number of days since Enroll_date\n",
    "\n",
    "Award?:- Dummy variable for Last_award (1=not null, 0=null)"
   ]
  },
  {
   "cell_type": "markdown",
   "id": "71c4adbe",
   "metadata": {},
   "source": [
    "# 1. EDA/ Expolarty Data Analysis\n",
    "# 2. Data prepartion"
   ]
  },
  {
   "cell_type": "code",
   "execution_count": null,
   "id": "8a63c994",
   "metadata": {},
   "outputs": [],
   "source": [
    "import pandas as pd\n",
    "import numpy as np\n",
    "import matplotlib.pyplot as plt\n",
    "import seaborn as sns\n"
   ]
  },
  {
   "cell_type": "code",
   "execution_count": null,
   "id": "57771a8f",
   "metadata": {},
   "outputs": [],
   "source": [
    "df=pd.read_excel(\"C:/Data Science/dataset_1/EastWestAirlines.xlsx\")"
   ]
  },
  {
   "cell_type": "code",
   "execution_count": null,
   "id": "8e11f66b",
   "metadata": {},
   "outputs": [],
   "source": [
    "df"
   ]
  },
  {
   "cell_type": "code",
   "execution_count": null,
   "id": "22bc00f7",
   "metadata": {},
   "outputs": [],
   "source": [
    "# we take the sample data from the dataset\n",
    "df.head()"
   ]
  },
  {
   "cell_type": "code",
   "execution_count": null,
   "id": "3e87c617",
   "metadata": {},
   "outputs": [],
   "source": [
    "# column\n",
    "df.columns\n",
    "# In this dataset there are 12 columns"
   ]
  },
  {
   "cell_type": "code",
   "execution_count": null,
   "id": "30277a72",
   "metadata": {},
   "outputs": [],
   "source": [
    "#shape of the dataset\n",
    "df.shape\n",
    "# There are 3999  records in this dataset and ID# column has the Ordinal data\n",
    "# And other column has nomial data "
   ]
  },
  {
   "cell_type": "code",
   "execution_count": null,
   "id": "b92cfad6",
   "metadata": {},
   "outputs": [],
   "source": [
    "#data types\n",
    "df.dtypes\n",
    "# all the column has int  data types"
   ]
  },
  {
   "cell_type": "code",
   "execution_count": null,
   "id": "31dafb73",
   "metadata": {},
   "outputs": [],
   "source": [
    "# missing value\n",
    "a= df.isnull()\n",
    "#we can store the null value  in 'a' varible and we take the null value count from the 'a' varible\n",
    "a.sum()\n",
    "#there are no any missing value "
   ]
  },
  {
   "cell_type": "code",
   "execution_count": null,
   "id": "1b8deb99",
   "metadata": {},
   "outputs": [],
   "source": [
    "#dataset describestion\n",
    "df.describe()"
   ]
  },
  {
   "cell_type": "code",
   "execution_count": null,
   "id": "a9a48e31",
   "metadata": {},
   "outputs": [],
   "source": [
    "# WE drop the unessacary column from the dataset \n",
    "#we can only place the data which is numerical \n",
    "df=df.drop([\"ID#\",\"Award?\"],axis=1)"
   ]
  },
  {
   "cell_type": "code",
   "execution_count": null,
   "id": "dbaeab57",
   "metadata": {},
   "outputs": [],
   "source": [
    "#histogram\n",
    "#we draw the histogram of the each column\n",
    "sns.histplot(df[\"Balance\"] , kde=True)\n",
    "# data is right skewed and  not normally distruibute "
   ]
  },
  {
   "cell_type": "code",
   "execution_count": 36,
   "id": "4e0f8459",
   "metadata": {},
   "outputs": [
    {
     "data": {
      "text/plain": [
       "<Axes: xlabel='Qual_miles', ylabel='Count'>"
      ]
     },
     "execution_count": 36,
     "metadata": {},
     "output_type": "execute_result"
    },
    {
     "data": {
      "image/png": "[encoded data removed]",
      "text/plain": [
       "<Figure size 1800x600 with 1 Axes>"
      ]
     },
     "metadata": {},
     "output_type": "display_data"
    }
   ],
   "source": [
    "sns.histplot(df[\"Qual_miles\"] , kde=True)\n",
    "# data is right skeweed and not normaly distributed\n",
    "# the most of the data are present between the 0 and 600 Qual_miles and it count is less than the 400"
   ]
  },
  {
   "cell_type": "code",
   "execution_count": null,
   "id": "8ecab0ea",
   "metadata": {},
   "outputs": [],
   "source": [
    "#sns.histplot(df, kde=True)\n",
    "# data is right skeweed and not normaly distributed"
   ]
  },
  {
   "cell_type": "code",
   "execution_count": null,
   "id": "9fd61bfb",
   "metadata": {},
   "outputs": [],
   "source": [
    "#box plot\n",
    "sns.boxplot(df.Balance)\n",
    "#there are lage amount of the outlier are present"
   ]
  },
  {
   "cell_type": "code",
   "execution_count": null,
   "id": "f71d36d4",
   "metadata": {},
   "outputs": [],
   "source": [
    "#box plot \n",
    "sns.boxplot(df.Bonus_miles)\n",
    "#outlier are present"
   ]
  },
  {
   "cell_type": "code",
   "execution_count": null,
   "id": "2fc85a73",
   "metadata": {},
   "outputs": [],
   "source": [
    "# box plot of all the dataframe/dataset  column\n",
    "import matplotlib.pyplot as plt\n",
    "import seaborn as sns\n",
    "plt.rcParams['figure.figsize']=(18,6)\n",
    "sns.boxplot(data=df)\n",
    "\n",
    "#increses the width of the each boxplot we use the \n",
    "#sns.boxplot(data=df , width=1)"
   ]
  },
  {
   "cell_type": "code",
   "execution_count": null,
   "id": "510f23a3",
   "metadata": {},
   "outputs": [],
   "source": [
    "#scatter plot\n",
    "sns.scatterplot(df.Balance)\n",
    "#most point are lies between the 0.75 balance"
   ]
  },
  {
   "cell_type": "code",
   "execution_count": null,
   "id": "e90eba62",
   "metadata": {},
   "outputs": [],
   "source": [
    "#scatter plot\n",
    "sns.scatterplot(df.Bonus_miles)\n",
    "#most point are lies below the 100000 Bonus_miles point"
   ]
  },
  {
   "cell_type": "code",
   "execution_count": null,
   "id": "73cc89d0",
   "metadata": {},
   "outputs": [],
   "source": [
    "#scattter plot all the datapoint from the dataset/ dataframe\n",
    "sns.scatterplot(data=df)\n",
    "# the scatter plot is lagrely sparde along various point and \n",
    "#there are lagre amount of the outlier are present in the balance column\n"
   ]
  },
  {
   "cell_type": "code",
   "execution_count": null,
   "id": "175e85d1",
   "metadata": {},
   "outputs": [],
   "source": [
    "#mean\n",
    "df.mean()"
   ]
  },
  {
   "cell_type": "code",
   "execution_count": null,
   "id": "1c2b229e",
   "metadata": {},
   "outputs": [],
   "source": [
    "#we can calclaute the IQR\n",
    "\n",
    "IQR=df[\"Balance\"].quantile(0.75)-df[\"Balance\"].quantile(0.25)\n",
    "\n",
    "#have observation that the IQR in the variable explore\n",
    "#no becaue the IQR are in the capaitalluze letter\n",
    "#treated as constant\n",
    "IQR\n",
    "#Out\n",
    "\n",
    "lower_limit=df.Balance.quantile(0.25)-1.5*IQR    #make the lower limit value as 0 not the negative\n",
    "lower_limit         #Out[51]: -19446.9675\n",
    "upper_limit=df.Balance.quantile(0.75)-1.5*IQR \n",
    "upper_limit"
   ]
  },
  {
   "cell_type": "code",
   "execution_count": null,
   "id": "e82bcec7",
   "metadata": {},
   "outputs": [],
   "source": [
    "############################################\n",
    "#Box-plot can be visualized as a PDF on the  which side-ways.\n",
    "\n",
    "sns.boxplot( data=df)\n",
    "plt.show()\n",
    "#there are large amount of the outlier are present in the balanve and Bouns_miles\n",
    "#we can chek it indivisualy\n",
    "sns.boxplot(df.Balance)\n",
    "plt.show()\n",
    "sns.boxplot(df.Bonus_miles)\n",
    "plt.show()\n",
    "#there are outlier are present so we can remove that outlier by \n",
    "#using the winsarization teaq\n",
    "############"
   ]
  },
  {
   "cell_type": "code",
   "execution_count": null,
   "id": "3c2d4650",
   "metadata": {},
   "outputs": [],
   "source": [
    "#2 outlier treatement \n",
    "#Winsorizer\n",
    "#install the feature engine :- pip install feature_engine\n",
    "from feature_engine.outliers import Winsorizer\n",
    "winsor = Winsorizer(capping_method='IQR',\n",
    "                    tail='both',\n",
    "                    fold=1.5,\n",
    "                    variables= (data=df)\n",
    "                    )\n",
    "#copy Winsorizer and paste in help tab of\n",
    "#top right Windows , study the method\n",
    "\n",
    "df_t=winsor.fit_transform(data=df)\n",
    "sns.boxplot(data=df)\n",
    "sns.boxplot(data==df_t)"
   ]
  },
  {
   "cell_type": "code",
   "execution_count": null,
   "id": "09c557ae",
   "metadata": {},
   "outputs": [],
   "source": [
    "###############################\n",
    "#axis =0 then it is gonig to give the sam e results \n",
    "# if there are varienace then it give true \n",
    "df.var(axis=0)==0"
   ]
  },
  {
   "cell_type": "code",
   "execution_count": null,
   "id": "f184bce7",
   "metadata": {},
   "outputs": [],
   "source": [
    "#discretization\n",
    " \n",
    "df.head()     #show the first five record of the dataset/smaple data\n",
    "df.head(10)  # 0 to 9 record are display\n",
    "df.info()         #size of the data\n",
    "#it gives size , null values,rows ,columns and datatype of the columns\n",
    "\n",
    "df.describe()     #appllicabe fro numerical value  only\n",
    "df['Balance_new']=pd.cut(df['Balance'],bins=[min(df.Balance),df.Balance.mean(),max(df.Balance)],labels=['low','High'])\n",
    "df.Balance_new.value_counts()\n",
    "\n",
    "#in the above code we can descriteze the data from the variou ppoint and mark them\n",
    "#with the high value and low value  \n",
    "# we can divide that data from the mena and label with them with the high value\n",
    "# and more value from the mean are mark with the high value\n",
    "\n",
    "\n",
    "df['Balance_new']=pd.cut(df['Balance'], bins=[min(df.Balance),df.Balance.quantile(0.25),df.Balance.mean(), df.Balance.quantile(0.75),max(df.Balance)], labels=['group1','group2','group3','group4'])\n",
    "df.Balance_new.value_counts()\n"
   ]
  },
  {
   "cell_type": "code",
   "execution_count": null,
   "id": "3a993b57",
   "metadata": {},
   "outputs": [],
   "source": [
    "#Normalization\n",
    "#Normalization function written where ethnic argument is passed\n",
    "def norm_fun(i):\n",
    "    x=(i-i.min())/(i.max()-i.min())\n",
    "    return x\n",
    "\n",
    "df_norm=norm_fun(df)\n",
    "df_norm"
   ]
  },
  {
   "cell_type": "code",
   "execution_count": null,
   "id": "97a02eff",
   "metadata": {},
   "outputs": [],
   "source": [
    "b=df_norm.describe()\n",
    "b\n",
    "\n",
    "# all non_numeric data has been converted to numeric using label encoding"
   ]
  },
  {
   "cell_type": "markdown",
   "id": "9020547c",
   "metadata": {},
   "source": [
    "# Model buliding\n"
   ]
  },
  {
   "cell_type": "code",
   "execution_count": null,
   "id": "99a4c7fa",
   "metadata": {},
   "outputs": [],
   "source": [
    "\n",
    "#we are converting all the data point in the numerical form by using the normalization\n",
    "#method\n",
    "#####################\n",
    "#before you can applying the clustering you need to plot dendrogram first\n",
    "# now to create the dendrogram , we need to measure distance\n",
    "#we have import the linkage\n",
    "from scipy.cluster.hierarchy import linkage\n",
    "import scipy.cluster.hierarchy as sch\n",
    "#linkage function gives us hierarchical or aglomerative clustering\n",
    "#ref the help for linkage\n",
    "p=linkage(df_norm,method=\"complete\",metric=\"euclidean\")\n",
    "plt.figure(figsize=(16,8));\n",
    "plt.title(\"Hierarchical Clustering Dendrogram\");\n",
    "plt.xlabel(\"miles\");\n",
    "plt.ylabel(\"flights\")\n",
    "#ref help of dendogram\n",
    "#sch.dendrogram\n",
    "sch.dendrogram(p,leaf_rotation=0,leaf_font_size=10)\n",
    "plt.show()\n"
   ]
  },
  {
   "cell_type": "code",
   "execution_count": null,
   "id": "bd9197db",
   "metadata": {},
   "outputs": [],
   "source": [
    "#dendrogram()\n",
    "# now we can draw the dendgram\n",
    "#applying  agglomertive clustering choosing 3 a clusters from dendrogram\n",
    "#whatever has been dispalyed in dendrogram is not clustering\n",
    "#it is just showing number of possible clusters\n",
    "from sklearn.cluster import AgglomerativeClustering\n",
    "dendo=AgglomerativeClustering(n_clusters=3,linkage='complete',affinity='euclidean').fit(df_norm)\n",
    "#apply labels to the cluster\n",
    "dendo.labels_\n",
    "cluster_labels=pd.Series(dendo.labels_)\n",
    "#assign this series to df2 dataframe as column and name the column as 'cluster'\n",
    "df_norm['clust']=cluster_labels\n",
    "\n"
   ]
  },
  {
   "cell_type": "code",
   "execution_count": null,
   "id": "41c8bc8b",
   "metadata": {},
   "outputs": [],
   "source": [
    "df.shape\n",
    "#we want to realocate th ecolumnn 7 to 0 th postion\n",
    "df=df_norm.iloc[:,[10,1,2,3,4,5,6,7,8,9,]]\n",
    "#now check the Univ1 Dataframe\n",
    "df.iloc[:,2:].groupby(df.clust).mean()\n",
    "#from the output cluster 2 has got highest top10\n",
    "#lowest accept ratio , best faculty ratio and highest expenses\n",
    "#highest graduates ratio"
   ]
  },
  {
   "cell_type": "markdown",
   "id": "7afea5ac",
   "metadata": {},
   "source": [
    "# K-Means algorithm"
   ]
  },
  {
   "cell_type": "code",
   "execution_count": null,
   "id": "0666c75d",
   "metadata": {},
   "outputs": [],
   "source": [
    "from sklearn.cluster  import KMeans"
   ]
  },
  {
   "cell_type": "code",
   "execution_count": null,
   "id": "e68fc2a3",
   "metadata": {},
   "outputs": [],
   "source": [
    "TWSS=[]\n",
    "k=list(range(2,8))\n",
    "for i in k:\n",
    "    kmeans=KMeans(n_clusters=i)\n",
    "    kmeans.fit(df_norm)\n",
    "    TWSS.append(kmeans.inertia_)  #total whithin the sum square\n",
    "\n",
    "TWSS\n"
   ]
  },
  {
   "cell_type": "code",
   "execution_count": null,
   "id": "0f432402",
   "metadata": {},
   "outputs": [],
   "source": [
    "# as k value incresses the TWSS value decreses\n",
    "plt.plot(k,TWSS,'ro-');\n",
    "plt.xlabel(\"NO_of_clutsre\")\n",
    "plt.ylabel(\"Total_within_ss\")"
   ]
  },
  {
   "cell_type": "code",
   "execution_count": null,
   "id": "c40cdff5",
   "metadata": {},
   "outputs": [],
   "source": [
    "model =KMeans(n_clusters=3)\n",
    "model.fit(df_norm)\n",
    "model.labels_\n",
    "mb=pd.Series(model.labels_)\n",
    "Univ['clust']=mb"
   ]
  },
  {
   "cell_type": "code",
   "execution_count": null,
   "id": "65b10479",
   "metadata": {},
   "outputs": [],
   "source": [
    "Univ.head()"
   ]
  },
  {
   "cell_type": "code",
   "execution_count": null,
   "id": "fe6cfb11",
   "metadata": {},
   "outputs": [],
   "source": [
    "Univ=Univ.iloc[:,[7,1,2,3,4,5,6]]\n",
    "Univ\n",
    "Univ.iloc[:,2:8].groupby(Univ.clust).mean()     # we can uderstand describtion of each column\n"
   ]
  },
  {
   "cell_type": "code",
   "execution_count": null,
   "id": "4e135308",
   "metadata": {},
   "outputs": [],
   "source": [
    "Univ.to_csv('kmean_Airline_case4.csv', encoding='utf-8')\n",
    "import os\n",
    "os.getcwd()"
   ]
  }
 ],
 "metadata": {
  "kernelspec": {
   "display_name": "Python 3 (ipykernel)",
   "language": "python",
   "name": "python3"
  },
  "language_info": {
   "codemirror_mode": {
    "name": "ipython",
    "version": 3
   },
   "file_extension": ".py",
   "mimetype": "text/x-python",
   "name": "python",
   "nbconvert_exporter": "python",
   "pygments_lexer": "ipython3",
   "version": "3.10.9"
  }
 },
 "nbformat": 4,
 "nbformat_minor": 5
}
